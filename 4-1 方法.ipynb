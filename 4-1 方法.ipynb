{
 "cells": [
  {
   "cell_type": "markdown",
   "metadata": {},
   "source": [
    "# 方法\n",
    "在学习Python中的对象和数据结构类型时，我们已经看到了一些方法示例。方法本质上是内置于对象中的函数。在本课程的后面，我们将学习如何使用面向对象编程（OOP）和类创建自己的对象和方法。\n",
    "\n",
    "方法对对象执行特定的操作，也可以像函数一样接受参数。本讲座将只是方法的简要介绍。\n",
    "\n",
    "方法的形式为：\n",
    "\n",
    "    object.method（arg1，arg2等）\n",
    "    \n",
    "稍后您会看到，我们可以将方法视为具有引用对象本身的自变量“self”。您看不到此参数，但我们稍后将在OOP讲座中的课程中使用它。\n",
    "\n",
    "让我们快速看一下列表中各种方法的示例："
   ]
  },
  {
   "cell_type": "code",
   "execution_count": 1,
   "metadata": {},
   "outputs": [],
   "source": [
    "# 创建一个列表\n",
    "\n",
    "lst = [1,2,3,4,5]"
   ]
  },
  {
   "cell_type": "markdown",
   "metadata": {},
   "source": [
    "以下是一些python内置的列表常见方法：\n",
    "\n",
    "* append\n",
    "* count\n",
    "* extend\n",
    "* insert\n",
    "* pop\n",
    "* remove\n",
    "* reverse\n",
    "* sort\n",
    "\n",
    "现在让我们来尝试一下："
   ]
  },
  {
   "cell_type": "markdown",
   "metadata": {},
   "source": [
    "append() 允许我们把元素添加到列表的最后方："
   ]
  },
  {
   "cell_type": "code",
   "execution_count": 2,
   "metadata": {},
   "outputs": [],
   "source": [
    "lst.append(6)"
   ]
  },
  {
   "cell_type": "code",
   "execution_count": 3,
   "metadata": {},
   "outputs": [
    {
     "data": {
      "text/plain": [
       "[1, 2, 3, 4, 5, 6]"
      ]
     },
     "execution_count": 3,
     "metadata": {},
     "output_type": "execute_result"
    }
   ],
   "source": [
    "lst"
   ]
  },
  {
   "cell_type": "markdown",
   "metadata": {},
   "source": [
    "太好了! 现在让我们来试试 count()? count() 方法可以让我们对列表中某元素进行计数："
   ]
  },
  {
   "cell_type": "code",
   "execution_count": 4,
   "metadata": {},
   "outputs": [
    {
     "data": {
      "text/plain": [
       "1"
      ]
     },
     "execution_count": 4,
     "metadata": {},
     "output_type": "execute_result"
    }
   ],
   "source": [
    "# 检查2在列表内出现的次数\n",
    "lst.count(2)"
   ]
  }
 ],
 "metadata": {
  "kernelspec": {
   "display_name": "Python 3",
   "language": "python",
   "name": "python3"
  },
  "language_info": {
   "codemirror_mode": {
    "name": "ipython",
    "version": 3
   },
   "file_extension": ".py",
   "mimetype": "text/x-python",
   "name": "python",
   "nbconvert_exporter": "python",
   "pygments_lexer": "ipython3",
   "version": "3.7.6"
  }
 },
 "nbformat": 4,
 "nbformat_minor": 1
}
