{
 "cells": [
  {
   "cell_type": "markdown",
   "metadata": {},
   "source": [
    "# if, elif, else 语句\n",
    "\n",
    "Python中的<code> if </code>语句使我们可以告诉计算机根据一组特定的结果执行某种操作。\n",
    "\n",
    "从口头上讲，我们可以想象我们正在告诉电脑：\n",
    "\n",
    "“嘿，如果发生这种情况，请执行一些操作”\n",
    "\n",
    "然后，我们可以使用<code> elif </code>和<code> else </code>语句进一步扩展该想法，这使我们可以告诉计算机：\n",
    "\n",
    "“嘿，如果发生这种情况，请执行一些操作。否则，如果发生另一种情况，请执行其他操作。否则，如果以上*种情况都没有发生，请执行此操作。”\n",
    "\n",
    "让我们继续来看一下<code> if </code>语句的语法格式，以更好地了解这一点：\n",
    "\n",
    "     if 情况 1：\n",
    "         执行动作1\n",
    "     elif 情况 2：\n",
    "         执行动作2\n",
    "     else：\n",
    "         执行动作3"
   ]
  },
  {
   "cell_type": "markdown",
   "metadata": {},
   "source": [
    "## 第一个例子\n",
    "\n",
    "让我们看看这个例子"
   ]
  },
  {
   "cell_type": "code",
   "execution_count": 6,
   "metadata": {},
   "outputs": [
    {
     "name": "stdout",
     "output_type": "stream",
     "text": [
      "是真的!\n"
     ]
    }
   ],
   "source": [
    "if True:\n",
    "    print('是真的!')"
   ]
  },
  {
   "cell_type": "markdown",
   "metadata": {},
   "source": [
    "加入else"
   ]
  },
  {
   "cell_type": "code",
   "execution_count": 7,
   "metadata": {},
   "outputs": [
    {
     "name": "stdout",
     "output_type": "stream",
     "text": [
      "x 如果不是真的\n"
     ]
    }
   ],
   "source": [
    "x = False\n",
    "\n",
    "if x:\n",
    "    print('x 是真的!')\n",
    "else:\n",
    "    print('x 如果不是真的')"
   ]
  },
  {
   "cell_type": "markdown",
   "metadata": {},
   "source": [
    "### 多重分支\n",
    "让我们更全面地了解<code> if </code>，<code> elif </code>和<code> else </code>可以带我们走多远！\n",
    "\n",
    "我们将其写成嵌套结构。 请注意<code> if </code>，<code> elif </code>和<code> else </code>在代码中的排列方式。 这可以帮助您查看什么<code> if </code>与什么<code> elif </code>或<code> else </code>语句相关。\n",
    "\n",
    "我们将重新介绍Python的比较语法。"
   ]
  },
  {
   "cell_type": "code",
   "execution_count": 9,
   "metadata": {},
   "outputs": [
    {
     "name": "stdout",
     "output_type": "stream",
     "text": [
      "欢迎来银行!\n"
     ]
    }
   ],
   "source": [
    "loc = '银行'\n",
    "\n",
    "if loc == '酒店':\n",
    "    print('欢迎来酒店!')\n",
    "elif loc == '银行':\n",
    "    print('欢迎来银行!')\n",
    "else:\n",
    "    print('你在哪儿?')"
   ]
  },
  {
   "cell_type": "markdown",
   "metadata": {},
   "source": [
    "请注意如何分别检查嵌套的<code> if </code>语句，直到True布尔值导致其下面的嵌套代码运行。 您还应该注意，在使用<code> else </code>结束之前，可以根据需要插入任意数量的<code> elif </code>语句。\n",
    "\n",
    "让我们为<code> if </code>，<code> elif </code>和<code> else </code>语句创建两个更简单的示例："
   ]
  },
  {
   "cell_type": "code",
   "execution_count": 10,
   "metadata": {},
   "outputs": [
    {
     "name": "stdout",
     "output_type": "stream",
     "text": [
      "你好 S!\n"
     ]
    }
   ],
   "source": [
    "person = 'S'\n",
    "\n",
    "if person == 'S':\n",
    "    print('你好 S!')\n",
    "else:\n",
    "    print(\"你好，你的名字是?\")"
   ]
  },
  {
   "cell_type": "code",
   "execution_count": 11,
   "metadata": {},
   "outputs": [
    {
     "name": "stdout",
     "output_type": "stream",
     "text": [
      "你好 G!\n"
     ]
    }
   ],
   "source": [
    "person = 'G'\n",
    "\n",
    "if person == 'S':\n",
    "    print('你好 S!')\n",
    "elif person =='G':\n",
    "    print('你好 G!')\n",
    "else:\n",
    "    print(\"你好，你的名字是?\")"
   ]
  },
  {
   "cell_type": "markdown",
   "metadata": {},
   "source": [
    "## 缩进\n",
    "缩进在Python中的工作方式，以维护代码的结构和顺序是我们必须要掌握的。"
   ]
  }
 ],
 "metadata": {
  "kernelspec": {
   "display_name": "Python 3",
   "language": "python",
   "name": "python3"
  },
  "language_info": {
   "codemirror_mode": {
    "name": "ipython",
    "version": 3
   },
   "file_extension": ".py",
   "mimetype": "text/x-python",
   "name": "python",
   "nbconvert_exporter": "python",
   "pygments_lexer": "ipython3",
   "version": "3.7.6"
  }
 },
 "nbformat": 4,
 "nbformat_minor": 1
}
