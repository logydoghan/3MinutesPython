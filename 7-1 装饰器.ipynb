{
 "cells": [
  {
   "cell_type": "markdown",
   "metadata": {},
   "source": [
    "# 装饰器\n",
    "\n",
    "\n",
    "装饰器可以被认为是修改另一个函数的“函数”的函数。 它们有助于使您的代码更短，更加像Python(Pythonic)。\n",
    "\n",
    "为了正确地解释装饰器，我们将慢慢地从功能开始。请确保运行此笔记本中的每个单元，让我们分解一下步骤：\n",
    "\n",
    "## 函数回顾"
   ]
  },
  {
   "cell_type": "code",
   "execution_count": 1,
   "metadata": {},
   "outputs": [],
   "source": [
    "def func():\n",
    "    return 1"
   ]
  },
  {
   "cell_type": "code",
   "execution_count": 2,
   "metadata": {},
   "outputs": [
    {
     "data": {
      "text/plain": [
       "1"
      ]
     },
     "execution_count": 2,
     "metadata": {},
     "output_type": "execute_result"
    }
   ],
   "source": [
    "func()"
   ]
  },
  {
   "cell_type": "markdown",
   "metadata": {},
   "source": [
    "## 作用域回顾"
   ]
  },
  {
   "cell_type": "code",
   "execution_count": 3,
   "metadata": {},
   "outputs": [],
   "source": [
    "s = '全局变量'\n",
    "\n",
    "def check_for_locals():\n",
    "    print(locals())"
   ]
  },
  {
   "cell_type": "markdown",
   "metadata": {},
   "source": [
    "我们可以使用<code>locals()</code> 和 <code>globals()</code> 检查本地和全局变量。"
   ]
  },
  {
   "cell_type": "code",
   "execution_count": 4,
   "metadata": {},
   "outputs": [
    {
     "name": "stdout",
     "output_type": "stream",
     "text": [
      "{'__name__': '__main__', '__doc__': 'Automatically created module for IPython interactive environment', '__package__': None, '__loader__': None, '__spec__': None, '__builtin__': <module 'builtins' (built-in)>, '__builtins__': <module 'builtins' (built-in)>, '_ih': ['', 'def func():\\n    return 1', 'func()', \"s = '全局变量'\\n\\ndef check_for_locals():\\n    print(locals())\", 'print(globals())'], '_oh': {2: 1}, '_dh': ['/Users/michaelsong'], 'In': ['', 'def func():\\n    return 1', 'func()', \"s = '全局变量'\\n\\ndef check_for_locals():\\n    print(locals())\", 'print(globals())'], 'Out': {2: 1}, 'get_ipython': <bound method InteractiveShell.get_ipython of <ipykernel.zmqshell.ZMQInteractiveShell object at 0x10e0e7fd0>>, 'exit': <IPython.core.autocall.ZMQExitAutocall object at 0x10ef1cbd0>, 'quit': <IPython.core.autocall.ZMQExitAutocall object at 0x10ef1cbd0>, '_': 1, '__': '', '___': '', '_i': \"s = '全局变量'\\n\\ndef check_for_locals():\\n    print(locals())\", '_ii': 'func()', '_iii': 'def func():\\n    return 1', '_i1': 'def func():\\n    return 1', 'func': <function func at 0x10f1079e0>, '_i2': 'func()', '_2': 1, '_i3': \"s = '全局变量'\\n\\ndef check_for_locals():\\n    print(locals())\", 's': '全局变量', 'check_for_locals': <function check_for_locals at 0x10f107c20>, '_i4': 'print(globals())'}\n"
     ]
    }
   ],
   "source": [
    "print(globals())"
   ]
  },
  {
   "cell_type": "markdown",
   "metadata": {
    "collapsed": true
   },
   "source": [
    "这里面有很多的全局变量都是Python的内置变量："
   ]
  },
  {
   "cell_type": "code",
   "execution_count": 5,
   "metadata": {},
   "outputs": [
    {
     "name": "stdout",
     "output_type": "stream",
     "text": [
      "dict_keys(['__name__', '__doc__', '__package__', '__loader__', '__spec__', '__builtin__', '__builtins__', '_ih', '_oh', '_dh', 'In', 'Out', 'get_ipython', 'exit', 'quit', '_', '__', '___', '_i', '_ii', '_iii', '_i1', 'func', '_i2', '_2', '_i3', 's', 'check_for_locals', '_i4', '_i5'])\n"
     ]
    }
   ],
   "source": [
    "print(globals().keys())"
   ]
  },
  {
   "cell_type": "markdown",
   "metadata": {},
   "source": [
    "我们可以看到s在里面。"
   ]
  },
  {
   "cell_type": "code",
   "execution_count": 6,
   "metadata": {},
   "outputs": [
    {
     "data": {
      "text/plain": [
       "'全局变量'"
      ]
     },
     "execution_count": 6,
     "metadata": {},
     "output_type": "execute_result"
    }
   ],
   "source": [
    "globals()['s']"
   ]
  },
  {
   "cell_type": "markdown",
   "metadata": {},
   "source": [
    "我们现在检查一下本地变量（应该是什么都没有的）"
   ]
  },
  {
   "cell_type": "code",
   "execution_count": 7,
   "metadata": {},
   "outputs": [
    {
     "name": "stdout",
     "output_type": "stream",
     "text": [
      "{}\n"
     ]
    }
   ],
   "source": [
    "check_for_locals()"
   ]
  },
  {
   "cell_type": "markdown",
   "metadata": {},
   "source": [
    "现在让我们继续构建装饰器的逻辑。 请记住，在Python中“一切都是对象”。 这意味着函数是可以分配标签并传递给其他函数的对象。 让我们从一些简单的例子开始："
   ]
  },
  {
   "cell_type": "code",
   "execution_count": 8,
   "metadata": {},
   "outputs": [],
   "source": [
    "def hello(name='张三'):\n",
    "    return '你好 '+name"
   ]
  },
  {
   "cell_type": "code",
   "execution_count": 9,
   "metadata": {},
   "outputs": [
    {
     "data": {
      "text/plain": [
       "'你好 张三'"
      ]
     },
     "execution_count": 9,
     "metadata": {},
     "output_type": "execute_result"
    }
   ],
   "source": [
    "hello()"
   ]
  },
  {
   "cell_type": "markdown",
   "metadata": {},
   "source": [
    "为该功能分配另一个标签。 请注意，此处未使用括号，因为我们未调用函数** hello **，而是将函数对象传递给** greet **变量。"
   ]
  },
  {
   "cell_type": "code",
   "execution_count": 10,
   "metadata": {},
   "outputs": [],
   "source": [
    "greet = hello"
   ]
  },
  {
   "cell_type": "code",
   "execution_count": 11,
   "metadata": {},
   "outputs": [
    {
     "data": {
      "text/plain": [
       "<function __main__.hello(name='张三')>"
      ]
     },
     "execution_count": 11,
     "metadata": {},
     "output_type": "execute_result"
    }
   ],
   "source": [
    "greet"
   ]
  },
  {
   "cell_type": "code",
   "execution_count": 12,
   "metadata": {},
   "outputs": [
    {
     "data": {
      "text/plain": [
       "'你好 张三'"
      ]
     },
     "execution_count": 12,
     "metadata": {},
     "output_type": "execute_result"
    }
   ],
   "source": [
    "greet()"
   ]
  },
  {
   "cell_type": "markdown",
   "metadata": {},
   "source": [
    "如果我们尝试一下删除hello"
   ]
  },
  {
   "cell_type": "code",
   "execution_count": 13,
   "metadata": {},
   "outputs": [],
   "source": [
    "del hello"
   ]
  },
  {
   "cell_type": "code",
   "execution_count": 14,
   "metadata": {},
   "outputs": [
    {
     "ename": "NameError",
     "evalue": "name 'hello' is not defined",
     "output_type": "error",
     "traceback": [
      "\u001b[0;31m---------------------------------------------------------------------------\u001b[0m",
      "\u001b[0;31mNameError\u001b[0m                                 Traceback (most recent call last)",
      "\u001b[0;32m<ipython-input-14-a75d7781aaeb>\u001b[0m in \u001b[0;36m<module>\u001b[0;34m\u001b[0m\n\u001b[0;32m----> 1\u001b[0;31m \u001b[0mhello\u001b[0m\u001b[0;34m(\u001b[0m\u001b[0;34m)\u001b[0m\u001b[0;34m\u001b[0m\u001b[0;34m\u001b[0m\u001b[0m\n\u001b[0m",
      "\u001b[0;31mNameError\u001b[0m: name 'hello' is not defined"
     ]
    }
   ],
   "source": [
    "hello()"
   ]
  },
  {
   "cell_type": "code",
   "execution_count": 15,
   "metadata": {},
   "outputs": [
    {
     "data": {
      "text/plain": [
       "'你好 张三'"
      ]
     },
     "execution_count": 15,
     "metadata": {},
     "output_type": "execute_result"
    }
   ],
   "source": [
    "greet()"
   ]
  },
  {
   "cell_type": "markdown",
   "metadata": {},
   "source": [
    "即使我们删除了名称“ hello”，名称“ greet **”仍然指向我们的原始函数对象。重要的是要知道函数是可以传递给其他对象的对象！"
   ]
  },
  {
   "cell_type": "markdown",
   "metadata": {},
   "source": [
    "## 在函数内的函数\n",
    "现在让我们来看看如何在函数内定义另一个函数："
   ]
  },
  {
   "cell_type": "code",
   "execution_count": 16,
   "metadata": {},
   "outputs": [],
   "source": [
    "def hello(name='Jose'):\n",
    "    print('hello函数被执行了')\n",
    "    \n",
    "    def greet():\n",
    "        return '\\t 在greet()内的函数'\n",
    "    \n",
    "    def welcome():\n",
    "        return \"\\t 在welcome()内的函数\"\n",
    "    \n",
    "    print(greet())\n",
    "    print(welcome())\n",
    "    print(\"现在让我们回到hello()函数\")"
   ]
  },
  {
   "cell_type": "code",
   "execution_count": 17,
   "metadata": {},
   "outputs": [
    {
     "name": "stdout",
     "output_type": "stream",
     "text": [
      "hello函数被执行了\n",
      "\t 在greet()内的函数\n",
      "\t 在welcome()内的函数\n",
      "现在让我们回到hello()函数\n"
     ]
    }
   ],
   "source": [
    "hello()"
   ]
  },
  {
   "cell_type": "code",
   "execution_count": 18,
   "metadata": {},
   "outputs": [
    {
     "ename": "NameError",
     "evalue": "name 'welcome' is not defined",
     "output_type": "error",
     "traceback": [
      "\u001b[0;31m---------------------------------------------------------------------------\u001b[0m",
      "\u001b[0;31mNameError\u001b[0m                                 Traceback (most recent call last)",
      "\u001b[0;32m<ipython-input-18-a401d7101853>\u001b[0m in \u001b[0;36m<module>\u001b[0;34m\u001b[0m\n\u001b[0;32m----> 1\u001b[0;31m \u001b[0mwelcome\u001b[0m\u001b[0;34m(\u001b[0m\u001b[0;34m)\u001b[0m\u001b[0;34m\u001b[0m\u001b[0;34m\u001b[0m\u001b[0m\n\u001b[0m",
      "\u001b[0;31mNameError\u001b[0m: name 'welcome' is not defined"
     ]
    }
   ],
   "source": [
    "welcome()"
   ]
  },
  {
   "cell_type": "markdown",
   "metadata": {},
   "source": [
    "注意这里我们welcome函数被定义在hello函数里面了。所以当你想单独调用welcome的时候就会报错。现在让我们回到函数内的函数：\n",
    "\n",
    "## 返回一个嵌套函数"
   ]
  },
  {
   "cell_type": "code",
   "execution_count": 19,
   "metadata": {},
   "outputs": [],
   "source": [
    "def hello(name='张三'):\n",
    "    \n",
    "    def greet():·\n",
    "        return '\\t 在greet()内的函数'\n",
    "    \n",
    "    def welcome():\n",
    "        return \"\\t 在welcome()内的函数\"\n",
    "    \n",
    "    if name == '张三':\n",
    "        return greet\n",
    "    else:\n",
    "        return welcome"
   ]
  },
  {
   "cell_type": "markdown",
   "metadata": {},
   "source": [
    "现在让我们把hello方法赋予一个值。注意hello方法默认姓名是张三。"
   ]
  },
  {
   "cell_type": "code",
   "execution_count": 20,
   "metadata": {},
   "outputs": [],
   "source": [
    "x = hello()"
   ]
  },
  {
   "cell_type": "code",
   "execution_count": 21,
   "metadata": {},
   "outputs": [
    {
     "data": {
      "text/plain": [
       "<function __main__.hello.<locals>.greet()>"
      ]
     },
     "execution_count": 21,
     "metadata": {},
     "output_type": "execute_result"
    }
   ],
   "source": [
    "x"
   ]
  },
  {
   "cell_type": "markdown",
   "metadata": {},
   "source": [
    "现在我们就能看到x已经指向了hello里面的greet方法。"
   ]
  },
  {
   "cell_type": "code",
   "execution_count": 22,
   "metadata": {},
   "outputs": [
    {
     "name": "stdout",
     "output_type": "stream",
     "text": [
      "\t 在greet()内的函数\n"
     ]
    }
   ],
   "source": [
    "print(x())"
   ]
  },
  {
   "cell_type": "markdown",
   "metadata": {},
   "source": [
    "让我们再次快速查看代码。\n",
    "\n",
    "在<code> if </code> / <code> else </code>子句中，我们返回的是<code> greet </code>和<code> welcome </code>，而不是<code> greet（）</code>和<code> welcome（）</code>。\n",
    "\n",
    "这是因为当您在其后加上一对括号时，该函数将被执行。 反之，如果您不在其后加上括号，则可以将其传递给其他变量，而无需执行它。\n",
    "\n",
    "当我们编写<code> x = hello（）</code>时，hello（）被执行，并且由于默认名称为张三，因此将返回函数<code> greet </code>。 如果将语句更改为<code> x = hello（name =“李四）</code>，则将返回<code> welcome </code>函数。 我们还可以执行<code> print（hello（）（））</code>输出*这在greet（）函数内部*。"
   ]
  },
  {
   "cell_type": "markdown",
   "metadata": {},
   "source": [
    "## 将函数传入参数\n",
    "我们同样可以把函数当作参数传入另一个函数里："
   ]
  },
  {
   "cell_type": "code",
   "execution_count": 23,
   "metadata": {},
   "outputs": [],
   "source": [
    "def hello():\n",
    "    return '你好张三!'\n",
    "\n",
    "def other(func):\n",
    "    print('其他代码会到达这里')\n",
    "    print(func())"
   ]
  },
  {
   "cell_type": "code",
   "execution_count": 24,
   "metadata": {},
   "outputs": [
    {
     "name": "stdout",
     "output_type": "stream",
     "text": [
      "其他代码会到达这里\n",
      "你好张三!\n"
     ]
    }
   ],
   "source": [
    "other(hello)"
   ]
  },
  {
   "cell_type": "markdown",
   "metadata": {},
   "source": [
    "现在让我们来建立第一个装饰器："
   ]
  },
  {
   "cell_type": "markdown",
   "metadata": {},
   "source": [
    "## 创建装饰器\n",
    "之前的例子里我们手动创建了一个装饰器，现在让我们看看Python的装饰器怎么使用："
   ]
  },
  {
   "cell_type": "code",
   "execution_count": 25,
   "metadata": {},
   "outputs": [],
   "source": [
    "def new_decorator(func):\n",
    "\n",
    "    def wrap_func():\n",
    "        print(\"在func()函数之前运行\")\n",
    "\n",
    "        func()\n",
    "\n",
    "        print(\"在func()函数之后运行\")\n",
    "\n",
    "    return wrap_func\n",
    "\n",
    "def func_needs_decorator():\n",
    "    print(\"这个函数需要一个装饰器\")"
   ]
  },
  {
   "cell_type": "code",
   "execution_count": 26,
   "metadata": {},
   "outputs": [
    {
     "name": "stdout",
     "output_type": "stream",
     "text": [
      "这个函数需要一个装饰器\n"
     ]
    }
   ],
   "source": [
    "func_needs_decorator()"
   ]
  },
  {
   "cell_type": "code",
   "execution_count": 27,
   "metadata": {},
   "outputs": [],
   "source": [
    "func_needs_decorator = new_decorator(func_needs_decorator)"
   ]
  },
  {
   "cell_type": "code",
   "execution_count": 28,
   "metadata": {},
   "outputs": [
    {
     "name": "stdout",
     "output_type": "stream",
     "text": [
      "在func()函数之前运行\n",
      "这个函数需要一个装饰器\n",
      "在func()函数之后运行\n"
     ]
    }
   ],
   "source": [
    "func_needs_decorator()"
   ]
  },
  {
   "cell_type": "markdown",
   "metadata": {},
   "source": [
    "那么这里发生了什么？装饰器仅包装函数并修改其行为。现在，让我们了解如何使用@符号重写此代码，这是Python用于装饰器的功能："
   ]
  },
  {
   "cell_type": "code",
   "execution_count": 29,
   "metadata": {},
   "outputs": [],
   "source": [
    "@new_decorator\n",
    "def func_needs_decorator():\n",
    "    print(\"这个函数需要一个装饰器\")"
   ]
  },
  {
   "cell_type": "code",
   "execution_count": 30,
   "metadata": {},
   "outputs": [
    {
     "name": "stdout",
     "output_type": "stream",
     "text": [
      "在func()函数之前运行\n",
      "这个函数需要一个装饰器\n",
      "在func()函数之后运行\n"
     ]
    }
   ],
   "source": [
    "func_needs_decorator()"
   ]
  },
  {
   "cell_type": "code",
   "execution_count": null,
   "metadata": {},
   "outputs": [],
   "source": []
  }
 ],
 "metadata": {
  "kernelspec": {
   "display_name": "Python 3",
   "language": "python",
   "name": "python3"
  },
  "language_info": {
   "codemirror_mode": {
    "name": "ipython",
    "version": 3
   },
   "file_extension": ".py",
   "mimetype": "text/x-python",
   "name": "python",
   "nbconvert_exporter": "python",
   "pygments_lexer": "ipython3",
   "version": "3.7.6"
  }
 },
 "nbformat": 4,
 "nbformat_minor": 1
}
