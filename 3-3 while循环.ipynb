{
 "cells": [
  {
   "cell_type": "markdown",
   "metadata": {
    "collapsed": true
   },
   "source": [
    "# while 循环\n",
    "\n",
    "Python中的<code> while </code>语句是执行迭代的最通用方法之一。 只要条件为真，<code> while </code>语句将重复执行单个语句或一组语句。 之所以称为“循环”，是因为代码语句反复循环遍历，直到不再满足条件为止。\n",
    "\n",
    "while循环的一般格式为：\n",
    "\n",
    "     while：\n",
    "         代码声明\n",
    "     else：\n",
    "         最终代码声明\n",
    "\n",
    "我们来看几个简单的<code> while </code>循环。"
   ]
  },
  {
   "cell_type": "code",
   "execution_count": 1,
   "metadata": {},
   "outputs": [
    {
     "name": "stdout",
     "output_type": "stream",
     "text": [
      "x现在是:  0\n",
      " x依然小于10, x需要加1\n",
      "x现在是:  1\n",
      " x依然小于10, x需要加1\n",
      "x现在是:  2\n",
      " x依然小于10, x需要加1\n",
      "x现在是:  3\n",
      " x依然小于10, x需要加1\n",
      "x现在是:  4\n",
      " x依然小于10, x需要加1\n",
      "x现在是:  5\n",
      " x依然小于10, x需要加1\n",
      "x现在是:  6\n",
      " x依然小于10, x需要加1\n",
      "x现在是:  7\n",
      " x依然小于10, x需要加1\n",
      "x现在是:  8\n",
      " x依然小于10, x需要加1\n",
      "x现在是:  9\n",
      " x依然小于10, x需要加1\n"
     ]
    }
   ],
   "source": [
    "x = 0\n",
    "\n",
    "while x < 10:\n",
    "    print('x现在是: ',x)\n",
    "    print(' x依然小于10, x需要加1')\n",
    "    x+=1"
   ]
  },
  {
   "cell_type": "markdown",
   "metadata": {},
   "source": [
    "请注意，打印语句发生了多少次，并且<code> while </code>循环如何持续进行，直到满足True条件为止，该条件在x == 10时发生。需要注意，一旦发生这种情况代码就会停止运行。让我们看看如何添加<code> else </code>语句："
   ]
  },
  {
   "cell_type": "code",
   "execution_count": 2,
   "metadata": {},
   "outputs": [
    {
     "name": "stdout",
     "output_type": "stream",
     "text": [
      "x现在是：  0\n",
      " x依然小于10, x需要加1\n",
      "x现在是：  1\n",
      " x依然小于10, x需要加1\n",
      "x现在是：  2\n",
      " x依然小于10, x需要加1\n",
      "x现在是：  3\n",
      " x依然小于10, x需要加1\n",
      "x现在是：  4\n",
      " x依然小于10, x需要加1\n",
      "x现在是：  5\n",
      " x依然小于10, x需要加1\n",
      "x现在是：  6\n",
      " x依然小于10, x需要加1\n",
      "x现在是：  7\n",
      " x依然小于10, x需要加1\n",
      "x现在是：  8\n",
      " x依然小于10, x需要加1\n",
      "x现在是：  9\n",
      " x依然小于10, x需要加1\n",
      "运行结束!\n"
     ]
    }
   ],
   "source": [
    "x = 0\n",
    "\n",
    "while x < 10:\n",
    "    print('x现在是： ',x)\n",
    "    print(' x依然小于10, x需要加1')\n",
    "    x+=1\n",
    "    \n",
    "else:\n",
    "    print('运行结束!')"
   ]
  },
  {
   "cell_type": "markdown",
   "metadata": {},
   "source": [
    "# break, continue, pass\n",
    "\n",
    "我们可以在循环中使用<code> break </code>，<code> continue </code>和<code> pass </code>语句为各种情况添加其他功能. 这三个语句的定义如下：\n",
    "\n",
    "     break：中断当前最近的封闭循环。\n",
    "     continue：转到最近的封闭循环的顶部。\n",
    "     pass：什么也不做。\n",
    "\n",
    "让我们继续来看一些示例！"
   ]
  },
  {
   "cell_type": "code",
   "execution_count": 3,
   "metadata": {},
   "outputs": [
    {
     "name": "stdout",
     "output_type": "stream",
     "text": [
      "x现在是：  0\n",
      " x依然小于10, x需要加1\n",
      "continuing...\n",
      "x现在是：  1\n",
      " x依然小于10, x需要加1\n",
      "continuing...\n",
      "x现在是：  2\n",
      " x依然小于10, x需要加1\n",
      "x==3\n",
      "x现在是：  3\n",
      " x依然小于10, x需要加1\n",
      "continuing...\n",
      "x现在是：  4\n",
      " x依然小于10, x需要加1\n",
      "continuing...\n",
      "x现在是：  5\n",
      " x依然小于10, x需要加1\n",
      "continuing...\n",
      "x现在是：  6\n",
      " x依然小于10, x需要加1\n",
      "continuing...\n",
      "x现在是：  7\n",
      " x依然小于10, x需要加1\n",
      "continuing...\n",
      "x现在是：  8\n",
      " x依然小于10, x需要加1\n",
      "continuing...\n",
      "x现在是：  9\n",
      " x依然小于10, x需要加1\n",
      "continuing...\n"
     ]
    }
   ],
   "source": [
    "x = 0\n",
    "\n",
    "while x < 10:\n",
    "    print('x现在是： ',x)\n",
    "    print(' x依然小于10, x需要加1')\n",
    "    x+=1\n",
    "    if x==3:\n",
    "        print('x==3')\n",
    "    else:\n",
    "        print('continuing...')\n",
    "        continue"
   ]
  },
  {
   "cell_type": "markdown",
   "metadata": {},
   "source": [
    "请注意，当x == 3时，我们如何有一个打印语句，并在继续执行外部while循环时继续打印出一条继续语句。 让我们休息一下x == 3，看看结果是否有意义："
   ]
  },
  {
   "cell_type": "code",
   "execution_count": 4,
   "metadata": {},
   "outputs": [
    {
     "name": "stdout",
     "output_type": "stream",
     "text": [
      "x现在是：  0\n",
      " x依然小于10, x需要加1\n",
      "continuing...\n",
      "x现在是：  1\n",
      " x依然小于10, x需要加1\n",
      "continuing...\n",
      "x现在是：  2\n",
      " x依然小于10, x需要加1\n",
      "当 x==3中断\n"
     ]
    }
   ],
   "source": [
    "x = 0\n",
    "\n",
    "while x < 10:\n",
    "    print('x现在是： ',x)\n",
    "    print(' x依然小于10, x需要加1')\n",
    "    x+=1\n",
    "    if x==3:\n",
    "        print('当 x==3中断')\n",
    "        break\n",
    "    else:\n",
    "        print('continuing...')\n",
    "        continue"
   ]
  },
  {
   "cell_type": "markdown",
   "metadata": {},
   "source": [
    "**不过请注意！不要使用<code> while </code>语句创建无限运行的循环。例如：**"
   ]
  },
  {
   "cell_type": "code",
   "execution_count": null,
   "metadata": {},
   "outputs": [],
   "source": [
    "# 请不要运行这段代码!!!! \n",
    "while True:\n",
    "    print(\"我在永续循环里出不来了!\")"
   ]
  },
  {
   "cell_type": "markdown",
   "metadata": {
    "collapsed": true
   },
   "source": [
    "如果你运行了，请点击上方的kernel并且点击restart kernel"
   ]
  }
 ],
 "metadata": {
  "kernelspec": {
   "display_name": "Python 3",
   "language": "python",
   "name": "python3"
  },
  "language_info": {
   "codemirror_mode": {
    "name": "ipython",
    "version": 3
   },
   "file_extension": ".py",
   "mimetype": "text/x-python",
   "name": "python",
   "nbconvert_exporter": "python",
   "pygments_lexer": "ipython3",
   "version": "3.7.6"
  }
 },
 "nbformat": 4,
 "nbformat_minor": 1
}
