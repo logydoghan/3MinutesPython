{
 "cells": [
  {
   "cell_type": "markdown",
   "metadata": {},
   "source": [
    "# 第六章 错误和异常处理 - 练习答案"
   ]
  },
  {
   "cell_type": "markdown",
   "metadata": {},
   "source": [
    "### 问题 1\n",
    "使用 <code>try</code> 和 <code>except</code> 处理异常."
   ]
  },
  {
   "cell_type": "code",
   "execution_count": 4,
   "metadata": {},
   "outputs": [
    {
     "name": "stdout",
     "output_type": "stream",
     "text": [
      "出现错误啦!\n"
     ]
    }
   ],
   "source": [
    "try:\n",
    "    for i in ['a','b','c']:\n",
    "        print(i**2)\n",
    "except:\n",
    "    print(\"出现错误啦!\")"
   ]
  },
  {
   "cell_type": "markdown",
   "metadata": {},
   "source": [
    "### 问题 2\n",
    "使用 <code>try</code> 和 <code>except</code> 处理异常. 并使用 <code>finally</code> 来结束。"
   ]
  },
  {
   "cell_type": "code",
   "execution_count": 3,
   "metadata": {},
   "outputs": [
    {
     "name": "stdout",
     "output_type": "stream",
     "text": [
      "不能被零除!\n",
      "结束!\n"
     ]
    }
   ],
   "source": [
    "x = 5\n",
    "y = 0\n",
    "try:\n",
    "    z = x/y\n",
    "except ZeroDivisionError:\n",
    "    print(\"不能被零除!\")\n",
    "finally:\n",
    "    print('结束!')"
   ]
  },
  {
   "cell_type": "markdown",
   "metadata": {},
   "source": [
    "### 问题 3\n",
    "写一个方法来计算一个数字的平方 使用 <code>while</code> 循环和 <code>try</code>, <code>except</code>, <code>else</code> 来对错误的输入进行异常处理。"
   ]
  },
  {
   "cell_type": "code",
   "execution_count": 1,
   "metadata": {},
   "outputs": [],
   "source": [
    "def ask():\n",
    "    \n",
    "    while True:\n",
    "        try:\n",
    "            n = int(input('输入整数: '))\n",
    "        except:\n",
    "            print('发生了错误，请重新输入!')\n",
    "            continue\n",
    "        else:\n",
    "            break\n",
    "            \n",
    "        \n",
    "    print('你数字的平方是: ',n**2)"
   ]
  },
  {
   "cell_type": "code",
   "execution_count": 2,
   "metadata": {},
   "outputs": [
    {
     "name": "stdout",
     "output_type": "stream",
     "text": [
      "输入整数: 3\n",
      "你数字的平方是:  9\n"
     ]
    }
   ],
   "source": [
    "ask()"
   ]
  }
 ],
 "metadata": {
  "kernelspec": {
   "display_name": "Python 3",
   "language": "python",
   "name": "python3"
  },
  "language_info": {
   "codemirror_mode": {
    "name": "ipython",
    "version": 3
   },
   "file_extension": ".py",
   "mimetype": "text/x-python",
   "name": "python",
   "nbconvert_exporter": "python",
   "pygments_lexer": "ipython3",
   "version": "3.7.6"
  }
 },
 "nbformat": 4,
 "nbformat_minor": 1
}
