{
 "cells": [
  {
   "cell_type": "markdown",
   "metadata": {},
   "source": [
    "# 嵌套语句及作用域\n",
    "\n",
    "既然我们已经完成了编写自己的函数的工作，那么了解Python如何处理您分配的变量名称就变得很重要。当您在Python中创建变量名称时，该名称存储在* name-space *中。变量名也具有* scope *，作用域确定该变量名对代码其他部分的可见性。\n",
    "\n",
    "让我们从下面的代码讲起："
   ]
  },
  {
   "cell_type": "code",
   "execution_count": 1,
   "metadata": {},
   "outputs": [],
   "source": [
    "x = 25\n",
    "y = 30\n",
    "def printer():\n",
    "    x = 50\n",
    "    return x, y\n",
    "\n",
    "# print(x)\n",
    "# print(printer())"
   ]
  },
  {
   "cell_type": "markdown",
   "metadata": {},
   "source": [
    "你觉得printer()的返回结果是什么? 25 还是 50? 那么 print x呢? 25 还是 50?"
   ]
  },
  {
   "cell_type": "code",
   "execution_count": 2,
   "metadata": {},
   "outputs": [
    {
     "name": "stdout",
     "output_type": "stream",
     "text": [
      "25\n"
     ]
    }
   ],
   "source": [
    "print(x)"
   ]
  },
  {
   "cell_type": "code",
   "execution_count": 3,
   "metadata": {},
   "outputs": [
    {
     "name": "stdout",
     "output_type": "stream",
     "text": [
      "(50, 30)\n"
     ]
    }
   ],
   "source": [
    "print(printer())"
   ]
  },
  {
   "cell_type": "markdown",
   "metadata": {},
   "source": [
    "Python如何知道您在代码中指的是哪个** x **？这就是作用域概念的来源。Python遵循一组规则来确定您在代码中引用的变量（例如** x **）。现在让我们来打破规则："
   ]
  },
  {
   "cell_type": "markdown",
   "metadata": {
    "collapsed": true
   },
   "source": [
    "为了正确分配和调用变量名，理解代码中的作用域概念非常重要。\n",
    "\n",
    "简单来说，范围的概念可以通过3条通用规则来描述：\n",
    "\n",
    "1.默认情况下，名称分配将创建或更改本地名称。\n",
    "2.名称引用搜索（最多）四个范围，它们是：\n",
    "    *本地local环境\n",
    "    *封闭enclosure环境\n",
    "    *全球global环境\n",
    "    *内置Python环境\n",
    "3.在全局和非本地语句中声明的名称将分配的名称映射到封闭的模块和功能范围。\n",
    "\n",
    "\n",
    "上面＃2中的语句可以由LEGB规则定义。\n",
    "\n",
    "** LEGB规则：**\n",
    "\n",
    "L：本地local- 在函数内以任何方式分配的名称（def或lambda），但未在该函数中声明为全局。\n",
    "\n",
    "E：封闭函数enclosure — 从内部到外部，任何和所有封闭函数（def或lambda）在本地范围内的名称。\n",
    "\n",
    "G：全局（global）— 在模块文件的顶级分配的名称，或在文件内的def中声明的全局名称。\n",
    "\n",
    "B：内置（Python）- 在内置名称模块中预先分配的名称：open，range，SyntaxError，.."
   ]
  },
  {
   "cell_type": "markdown",
   "metadata": {},
   "source": [
    "## LEGB\n",
    "\n",
    "### 本地Local环境"
   ]
  },
  {
   "cell_type": "code",
   "execution_count": 4,
   "metadata": {},
   "outputs": [],
   "source": [
    "# x 在本地local环境\n",
    "f = lambda x:x**2"
   ]
  },
  {
   "cell_type": "markdown",
   "metadata": {},
   "source": [
    "### 封闭环境\n",
    "当我们有嵌套方法时，注意这里的name作用域\n"
   ]
  },
  {
   "cell_type": "code",
   "execution_count": 5,
   "metadata": {},
   "outputs": [
    {
     "name": "stdout",
     "output_type": "stream",
     "text": [
      "你好 张三\n"
     ]
    }
   ],
   "source": [
    "name = '这是全局名称'\n",
    "\n",
    "def greet():\n",
    "    # 封闭函数\n",
    "    name = '张三'\n",
    "    \n",
    "    def hello():\n",
    "        print('你好 '+name)\n",
    "    \n",
    "    hello()\n",
    "\n",
    "greet()"
   ]
  },
  {
   "cell_type": "markdown",
   "metadata": {},
   "source": [
    "### 全局Global环境"
   ]
  },
  {
   "cell_type": "code",
   "execution_count": 6,
   "metadata": {},
   "outputs": [
    {
     "name": "stdout",
     "output_type": "stream",
     "text": [
      "这是全局名称\n"
     ]
    }
   ],
   "source": [
    "print(name)"
   ]
  },
  {
   "cell_type": "markdown",
   "metadata": {},
   "source": [
    "### 内置环境\n",
    "这是Python内置的方法环境"
   ]
  },
  {
   "cell_type": "code",
   "execution_count": 7,
   "metadata": {},
   "outputs": [
    {
     "data": {
      "text/plain": [
       "<function len(obj, /)>"
      ]
     },
     "execution_count": 7,
     "metadata": {},
     "output_type": "execute_result"
    }
   ],
   "source": [
    "len"
   ]
  },
  {
   "cell_type": "markdown",
   "metadata": {},
   "source": [
    "## 本地变量\n",
    "当您在函数定义中声明变量时，它们与函数外部使用的具有相同名称的其他变量没有任何关系，即，变量名是函数本地的。这称为变量的范围。从名称的定义开始，所有变量都具有声明的块范围。\n",
    "\n",
    "示例："
   ]
  },
  {
   "cell_type": "code",
   "execution_count": 8,
   "metadata": {},
   "outputs": [
    {
     "name": "stdout",
     "output_type": "stream",
     "text": [
      "x是 50\n",
      "改变本地 x： 2\n",
      "x仍然是： 50\n"
     ]
    }
   ],
   "source": [
    "x = 50\n",
    "\n",
    "def func(x):\n",
    "    print('x是', x)\n",
    "    x = 2\n",
    "    print('改变本地 x：', x)\n",
    "\n",
    "func(x)\n",
    "print('x仍然是：', x)"
   ]
  },
  {
   "cell_type": "markdown",
   "metadata": {},
   "source": [
    "第一次使用函数主体的第一行打印名称** x **的值时，Python使用函数定义上方主块中声明的参数值。\n",
    "\n",
    "接下来，我们将值2分配给** x **。名称** x **在我们的函数中是本地的。因此，当我们在函数中更改** x **的值时，在主块中定义的** x **不会受到影响。\n",
    "\n",
    "在最后一个print语句中，我们显示主块中定义的** x **值，从而确认它实际上不受先前调用的函数中的本地赋值影响。\n",
    "\n",
    "## <code> global </code>语句\n",
    "如果要为在程序顶层定义的名称分配一个值（即不在任何范围的函数或类之内），则必须告诉Python该名称不是本地的，但它是全局的。我们使用<code> global </code>语句执行此操作。如果没有全局语句，则无法为在函数外部定义的变量分配值。\n",
    "\n",
    "您可以使用在函数外部定义的此类变量的值（假设函数内没有名称相同的变量）。但是，不鼓励这样做，应该避免这样做，因为程序的读者不清楚该变量的定义在哪里。使用<code> global </code>语句可以很清楚地知道变量是在最外面的块中定义的。\n",
    "\n",
    "示例："
   ]
  },
  {
   "cell_type": "code",
   "execution_count": 9,
   "metadata": {},
   "outputs": [
    {
     "name": "stdout",
     "output_type": "stream",
     "text": [
      "在运行 func() 之前, x 是:  50\n",
      "现在正在使用全局变量 x!\n",
      "因为全局变量是:  50\n",
      "运行 func(), 将全局 x 改变至 2\n",
      " x (在 func()) 之外的值是:  2\n"
     ]
    }
   ],
   "source": [
    "x = 50\n",
    "\n",
    "def func():\n",
    "    global x\n",
    "    print('现在正在使用全局变量 x!')\n",
    "    print('因为全局变量是: ', x)\n",
    "    x = 2\n",
    "    print('运行 func(), 将全局 x 改变至', x)\n",
    "\n",
    "print('在运行 func() 之前, x 是: ', x)\n",
    "func()\n",
    "print(' x (在 func()) 之外的值是: ', x)"
   ]
  },
  {
   "cell_type": "markdown",
   "metadata": {
    "collapsed": true
   },
   "source": [
    "<code> global </code>语句用于声明** x **是全局变量-因此，当我们在函数内部为** x **分配值时，使用主块中** x **的值。\n",
    "\n",
    "您可以使用相同的全局语句指定多个全局变量，例如<code>global x，y，z </code>。"
   ]
  }
 ],
 "metadata": {
  "kernelspec": {
   "display_name": "Python 3",
   "language": "python",
   "name": "python3"
  },
  "language_info": {
   "codemirror_mode": {
    "name": "ipython",
    "version": 3
   },
   "file_extension": ".py",
   "mimetype": "text/x-python",
   "name": "python",
   "nbconvert_exporter": "python",
   "pygments_lexer": "ipython3",
   "version": "3.7.6"
  }
 },
 "nbformat": 4,
 "nbformat_minor": 1
}
