{
 "cells": [
  {
   "cell_type": "markdown",
   "metadata": {
    "collapsed": true
   },
   "source": [
    "# 5-1，2 面向对象编程（Object Oriented Programming）\n",
    "\n",
    "面向对象编程 (OOP) 是初学者学习编程一个重要的难点。\n",
    "\n",
    "我们将本节内容分成如下几个方面：\n",
    "\n",
    "* 对象\n",
    "* 使用 *class* 关键字\n",
    "* 类属性\n",
    "* 再类中使用方法\n",
    "* 学习继承\n",
    "* 学习多态\n",
    "* 学习类的常用方法\n",
    "\n",
    "首先让我们构建一个列表对象："
   ]
  },
  {
   "cell_type": "code",
   "execution_count": 1,
   "metadata": {},
   "outputs": [],
   "source": [
    "lst = [1,2,3]"
   ]
  },
  {
   "cell_type": "markdown",
   "metadata": {},
   "source": [
    "然后让我们使用一个方法："
   ]
  },
  {
   "cell_type": "code",
   "execution_count": 2,
   "metadata": {},
   "outputs": [
    {
     "data": {
      "text/plain": [
       "1"
      ]
     },
     "execution_count": 2,
     "metadata": {},
     "output_type": "execute_result"
    }
   ],
   "source": [
    "lst.count(2)"
   ]
  },
  {
   "cell_type": "markdown",
   "metadata": {},
   "source": [
    "那么对象还有什么其他的方法吗：\n",
    "\n",
    "## 对象\n",
    "在Python中所有东西都是对象。记得我们之前如何使用type方法去检查对象类型吗？"
   ]
  },
  {
   "cell_type": "code",
   "execution_count": 3,
   "metadata": {},
   "outputs": [
    {
     "name": "stdout",
     "output_type": "stream",
     "text": [
      "<class 'int'>\n",
      "<class 'list'>\n",
      "<class 'tuple'>\n",
      "<class 'dict'>\n"
     ]
    }
   ],
   "source": [
    "print(type(1))\n",
    "print(type([]))\n",
    "print(type(()))\n",
    "print(type({}))"
   ]
  },
  {
   "cell_type": "markdown",
   "metadata": {},
   "source": [
    "因此，我们知道所有这些都是对象，那么如何创建自己的对象类型？这就是<code> class </code>关键字的来源。\n",
    "## 类\n",
    "用户定义的对象是使用<code> class </code>关键字创建的。该类是定义未来对象性质的蓝图。从类中，我们可以构造实例。实例是从特定类创建的特定对象。例如，上面我们创建了对象<code> lst </code>，它是列表对象的实例。\n",
    "\n",
    "让我们看看如何使用<code> class </code>："
   ]
  },
  {
   "cell_type": "code",
   "execution_count": 4,
   "metadata": {},
   "outputs": [
    {
     "name": "stdout",
     "output_type": "stream",
     "text": [
      "<class '__main__.Sample'>\n"
     ]
    }
   ],
   "source": [
    "# 创建一个叫Sample的对象名（类名）\n",
    "class Sample:\n",
    "    pass\n",
    "\n",
    "# 创建一个类的实例x\n",
    "x = Sample()\n",
    "\n",
    "print(type(x))"
   ]
  },
  {
   "cell_type": "markdown",
   "metadata": {},
   "source": [
    "按照惯例，我们给类起一个以大写字母开头的名称。注意，现在<code> x </code>是如何引用我们的Sample类的新实例。换句话说，我们实例化Sample类。\n",
    "\n",
    "在课程内部，我们目前刚刚通过。但是我们可以定义类的属性和方法。\n",
    "\n",
    "属性是对象的特征。\n",
    "**方法**是我们可以对对象执行的操作。\n",
    "\n",
    "例如，我们可以创建一个名为Dog的类。狗的属性可以是其品种或名称，而狗的方法可以由返回声音的.bark（）方法定义。\n",
    "\n",
    "让我们通过一个示例更好地了解属性。\n",
    "\n",
    "## 属性\n",
    "我们需要用以下方式定义方法的属性：\n",
    "    \n",
    "    self.attribute = something\n",
    "    \n",
    "有一个特别的方法：\n",
    "\n",
    "    __init__()\n",
    "\n",
    "通常这个方法可以初始化属性。"
   ]
  },
  {
   "cell_type": "code",
   "execution_count": 5,
   "metadata": {},
   "outputs": [],
   "source": [
    "class Dog:\n",
    "    def __init__(self,breed):\n",
    "        self.breed = breed\n",
    "        \n",
    "sam = Dog(breed='拉布拉多')\n",
    "frank = Dog(breed='哈士奇')"
   ]
  },
  {
   "cell_type": "markdown",
   "metadata": {},
   "source": [
    "让我们看看这个方法是做什么的：\n",
    "\n",
    "    __init__() \n",
    "每一次会在对象被创建出来之后运行\n",
    "\n",
    "    def __init__(self, breed):\n",
    "类定义中的每个属性均以对实例对象的引用开头。按照惯例，它被称为self。\n",
    "     self.breed = breed"
   ]
  },
  {
   "cell_type": "markdown",
   "metadata": {},
   "source": [
    "现在我们的两条狗都有属性了，让我们来看看他们的品种吧"
   ]
  },
  {
   "cell_type": "code",
   "execution_count": 6,
   "metadata": {},
   "outputs": [
    {
     "data": {
      "text/plain": [
       "'拉布拉多'"
      ]
     },
     "execution_count": 6,
     "metadata": {},
     "output_type": "execute_result"
    }
   ],
   "source": [
    "sam.breed"
   ]
  },
  {
   "cell_type": "code",
   "execution_count": 7,
   "metadata": {},
   "outputs": [
    {
     "data": {
      "text/plain": [
       "'哈士奇'"
      ]
     },
     "execution_count": 7,
     "metadata": {},
     "output_type": "execute_result"
    }
   ],
   "source": [
    "frank.breed"
   ]
  },
  {
   "cell_type": "markdown",
   "metadata": {},
   "source": [
    "注意品种后我们没有任何括号。这是因为它是一个属性，不带任何参数。\n",
    "\n",
    "在Python中，还存在“类对象属性”。这些类对象属性对于任何类实例都是相同的。例如，我们可以为Dog类创建属性* species *。狗，无论其品种，名称或其他属性如何，都将永远是哺乳动物。我们以以下方式应用此逻辑："
   ]
  },
  {
   "cell_type": "code",
   "execution_count": 8,
   "metadata": {},
   "outputs": [],
   "source": [
    "class Dog:\n",
    "    species = '哺乳动物'\n",
    "    \n",
    "    def __init__(self,breed,name):\n",
    "        self.breed = breed\n",
    "        self.name = name"
   ]
  },
  {
   "cell_type": "code",
   "execution_count": 9,
   "metadata": {},
   "outputs": [],
   "source": [
    "sam = Dog('拉布拉多','Sam')"
   ]
  },
  {
   "cell_type": "code",
   "execution_count": 10,
   "metadata": {},
   "outputs": [
    {
     "data": {
      "text/plain": [
       "'Sam'"
      ]
     },
     "execution_count": 10,
     "metadata": {},
     "output_type": "execute_result"
    }
   ],
   "source": [
    "sam.name"
   ]
  },
  {
   "cell_type": "code",
   "execution_count": 11,
   "metadata": {},
   "outputs": [
    {
     "data": {
      "text/plain": [
       "'哺乳动物'"
      ]
     },
     "execution_count": 11,
     "metadata": {},
     "output_type": "execute_result"
    }
   ],
   "source": [
    "sam.species"
   ]
  },
  {
   "cell_type": "markdown",
   "metadata": {},
   "source": [
    "## 方法\n",
    "\n",
    "方法是在类主体内定义的函数。它们用于通过对象的属性执行操作。方法是OOP范式的关键概念。它们对于划分编程中的职责至关重要，尤其是在大型应用程序中。\n",
    "\n",
    "您基本上可以将方法视为作用于对象的函数，这些函数通过其* self *参数将对象本身考虑在内。\n",
    "\n",
    "让我们来看一个创建Circle类的示例："
   ]
  },
  {
   "cell_type": "code",
   "execution_count": 12,
   "metadata": {},
   "outputs": [
    {
     "name": "stdout",
     "output_type": "stream",
     "text": [
      "圆的半径是:  1\n",
      "圆的面积是:  3.14\n",
      "圆的周长是:  6.28\n"
     ]
    }
   ],
   "source": [
    "class Circle:\n",
    "    pi = 3.14\n",
    "\n",
    "    # Circle 会初始化圆的半径为1\n",
    "    def __init__(self, radius=1):\n",
    "        self.radius = radius \n",
    "        self.area = radius * radius * Circle.pi\n",
    "\n",
    "    # 重设半径的方法\n",
    "    def setRadius(self, new_radius):\n",
    "        self.radius = new_radius\n",
    "        self.area = new_radius * new_radius * self.pi\n",
    "\n",
    "    # 得到圆周长的方法\n",
    "    def getCircumference(self):\n",
    "        return self.radius * self.pi * 2\n",
    "\n",
    "\n",
    "c = Circle()\n",
    "\n",
    "print('圆的半径是: ',c.radius)\n",
    "print('圆的面积是: ',c.area)\n",
    "print('圆的周长是: ',c.getCircumference())"
   ]
  },
  {
   "cell_type": "markdown",
   "metadata": {},
   "source": [
    "在上面的 __ init__方法中，为了计算面积属性，我们必须调用Circle.pi。这是因为该对象尚没有自己的.pi属性，因此我们将其称为“类对象属性pi”。<br>\n",
    "但是，在setRadius方法中，我们将使用确实具有其pi属性的现有Circle对象。在这里，我们可以使用Circle.pi或self.pi\n",
    "现在让我们更改半径，看看它如何影响我们的Circle对象："
   ]
  },
  {
   "cell_type": "code",
   "execution_count": 13,
   "metadata": {},
   "outputs": [
    {
     "name": "stdout",
     "output_type": "stream",
     "text": [
      "圆的半径是:  2\n",
      "圆的面积是:  12.56\n",
      "圆的周长是:  12.56\n"
     ]
    }
   ],
   "source": [
    "c.setRadius(2)\n",
    "\n",
    "print('圆的半径是: ',c.radius)\n",
    "print('圆的面积是: ',c.area)\n",
    "print('圆的周长是: ',c.getCircumference())"
   ]
  },
  {
   "cell_type": "markdown",
   "metadata": {},
   "source": [
    "## 继承\n",
    "\n",
    "继承是一种使用已经定义的类形成新类的方法。新形成的类称为派生类，我们从中派生的类称为基类。继承的重要好处是代码重用和降低程序的复杂性。派生类（后代）将覆盖或扩展基类（祖先）的功能。\n",
    "\n",
    "让我们看一下结合Dog类的先前工作的示例："
   ]
  },
  {
   "cell_type": "code",
   "execution_count": 28,
   "metadata": {},
   "outputs": [],
   "source": [
    "class Animal:\n",
    "    def __init__(self):\n",
    "        print(\"创建动物\")\n",
    "\n",
    "    def whoAmI(self):\n",
    "        print(\"动物\")\n",
    "\n",
    "    def eat(self):\n",
    "        print(\"进食\")\n",
    "\n",
    "\n",
    "class Dog(Animal):\n",
    "    def __init__(self):\n",
    "        Animal.__init__(self)\n",
    "        print(\"创建狗\")\n",
    "\n",
    "    def whoAmI(self):\n",
    "        print(\"狗\")\n",
    "\n",
    "    def bark(self):\n",
    "        print(\"汪汪!\")"
   ]
  },
  {
   "cell_type": "code",
   "execution_count": 29,
   "metadata": {},
   "outputs": [
    {
     "name": "stdout",
     "output_type": "stream",
     "text": [
      "创建动物\n",
      "创建狗\n"
     ]
    }
   ],
   "source": [
    "d = Dog()"
   ]
  },
  {
   "cell_type": "code",
   "execution_count": 30,
   "metadata": {},
   "outputs": [
    {
     "name": "stdout",
     "output_type": "stream",
     "text": [
      "狗\n"
     ]
    }
   ],
   "source": [
    "d.whoAmI()"
   ]
  },
  {
   "cell_type": "code",
   "execution_count": 31,
   "metadata": {},
   "outputs": [
    {
     "name": "stdout",
     "output_type": "stream",
     "text": [
      "进食\n"
     ]
    }
   ],
   "source": [
    "d.eat()"
   ]
  },
  {
   "cell_type": "code",
   "execution_count": 32,
   "metadata": {},
   "outputs": [
    {
     "name": "stdout",
     "output_type": "stream",
     "text": [
      "汪汪!\n"
     ]
    }
   ],
   "source": [
    "d.bark()"
   ]
  },
  {
   "cell_type": "markdown",
   "metadata": {},
   "source": [
    "在此示例中，我们有两个类：动物和狗。动物是基类，狗是派生类。\n",
    "\n",
    "派生类继承基类的功能。\n",
    "\n",
    "* 由eat()方法显示。\n",
    "\n",
    "派生类修改了基类的现有行为。\n",
    "\n",
    "* 由whoAmI()方法显示。\n",
    "\n",
    "最后，派生类通过定义新的bark()方法来扩展基类的功能。"
   ]
  },
  {
   "cell_type": "markdown",
   "metadata": {},
   "source": [
    "## 多态\n",
    "\n",
    "我们已经了解到，尽管函数可以采用不同的参数，但方法属于它们所作用的对象。在Python中，“多态性”是指不同的对象类可以共享相同的方法名称的方式，并且即使可以传入各种不同的对象，也可以从同一位置调用这些方法。例如："
   ]
  },
  {
   "cell_type": "code",
   "execution_count": 19,
   "metadata": {},
   "outputs": [
    {
     "name": "stdout",
     "output_type": "stream",
     "text": [
      "旺财 叫汪汪!\n",
      "喵星人 叫喵喵!\n"
     ]
    }
   ],
   "source": [
    "class Dog:\n",
    "    def __init__(self, name):\n",
    "        self.name = name\n",
    "\n",
    "    def speak(self):\n",
    "        return self.name+' 叫汪汪!'\n",
    "    \n",
    "class Cat:\n",
    "    def __init__(self, name):\n",
    "        self.name = name\n",
    "\n",
    "    def speak(self):\n",
    "        return self.name+' 叫喵喵!' \n",
    "    \n",
    "wangcai = Dog('旺财')\n",
    "miaoxingren = Cat('喵星人')\n",
    "\n",
    "print(wangcai.speak())\n",
    "print(miaoxingren.speak())"
   ]
  },
  {
   "cell_type": "markdown",
   "metadata": {},
   "source": [
    "这里有一个Dog类和一个Cat类，每个都有一个.speak()方法。调用时，每个对象的.speak()方法都返回该对象唯一的结果。\n",
    "\n",
    "有几种不同的方法可以证明多态性。首先，使用for循环："
   ]
  },
  {
   "cell_type": "code",
   "execution_count": 20,
   "metadata": {},
   "outputs": [
    {
     "name": "stdout",
     "output_type": "stream",
     "text": [
      "旺财 叫汪汪!\n",
      "喵星人 叫喵喵!\n"
     ]
    }
   ],
   "source": [
    "for pet in [wangcai,miaoxingren]:\n",
    "    print(pet.speak())"
   ]
  },
  {
   "cell_type": "markdown",
   "metadata": {},
   "source": [
    "在创建一个方法："
   ]
  },
  {
   "cell_type": "code",
   "execution_count": 21,
   "metadata": {},
   "outputs": [
    {
     "name": "stdout",
     "output_type": "stream",
     "text": [
      "旺财 叫汪汪!\n",
      "喵星人 叫喵喵!\n"
     ]
    }
   ],
   "source": [
    "def pet_speak(pet):\n",
    "    print(pet.speak())\n",
    "\n",
    "pet_speak(wangcai)\n",
    "pet_speak(miaoxingren)"
   ]
  },
  {
   "cell_type": "markdown",
   "metadata": {
    "slideshow": {
     "slide_type": "slide"
    }
   },
   "source": [
    "在这两种情况下，我们都可以传递不同的对象类型，并且通过相同的机制获得了特定于对象的结果。\n",
    "\n",
    "一种更常见的做法是使用抽象类和继承。抽象类是一个永远不会实例化的类。例如，尽管“狗”和“猫”是从“动物”派生的，但我们永远不会有“动物”对象，只有“狗”和“猫”对象："
   ]
  },
  {
   "cell_type": "code",
   "execution_count": 22,
   "metadata": {},
   "outputs": [
    {
     "name": "stdout",
     "output_type": "stream",
     "text": [
      "旺仔 叫汪汪!\n",
      "喵仔 叫喵喵!\n"
     ]
    }
   ],
   "source": [
    "class Animal:\n",
    "    def __init__(self, name):    # 类构造器\n",
    "        self.name = name\n",
    "\n",
    "    def speak(self):              # 抽象方法，如果在父类中出现，就必须在子类中出现\n",
    "        raise NotImplementedError(\"子类必须实现父类的方法\")\n",
    "\n",
    "\n",
    "class Dog(Animal):\n",
    "    \n",
    "    def speak(self):\n",
    "        return self.name+' 叫汪汪!'\n",
    "    \n",
    "class Cat(Animal):\n",
    "\n",
    "    def speak(self):\n",
    "        return self.name+' 叫喵喵!'\n",
    "    \n",
    "wangzai = Dog('旺仔')\n",
    "miaozai = Cat('喵仔')\n",
    "\n",
    "print(wangzai.speak())\n",
    "print(miaozai.speak())"
   ]
  },
  {
   "cell_type": "markdown",
   "metadata": {},
   "source": [
    "现实生活中的多态性示例包括：\n",
    "* 打开不同的文件类型-需要不同的工具来显示Word，pdf和Excel文件\n",
    "* 添加不同的对象-`+`运算符执行算术和串联"
   ]
  },
  {
   "cell_type": "markdown",
   "metadata": {},
   "source": [
    "## 特殊的方法\n",
    "最后，让我们看一下特殊的方法。 Python中的类可以使用特殊的方法名称来实现某些操作。这些方法实际上并没有直接调用，而是由Python特定的语言语法调用。例如，让我们创建一个Book类："
   ]
  },
  {
   "cell_type": "code",
   "execution_count": 33,
   "metadata": {},
   "outputs": [],
   "source": [
    "class Book:\n",
    "    def __init__(self, title, author, pages):\n",
    "        print(\"创建一本书\")\n",
    "        self.title = title\n",
    "        self.author = author\n",
    "        self.pages = pages\n",
    "\n",
    "    def __str__(self):\n",
    "        return \"标题: \" +  self.title + \" 作者: \" + self.author + \" 页数: \" + str(self.pages)\n",
    "\n",
    "    def __len__(self):\n",
    "        return self.pages\n",
    "\n",
    "    def __del__(self):\n",
    "        print(\"销毁一本书\")"
   ]
  },
  {
   "cell_type": "code",
   "execution_count": 34,
   "metadata": {},
   "outputs": [
    {
     "name": "stdout",
     "output_type": "stream",
     "text": [
      "创建一本书\n",
      "标题: 三国演义! 作者: 罗贯中 页数: 159\n",
      "159\n",
      "销毁一本书\n"
     ]
    }
   ],
   "source": [
    "book = Book(\"三国演义!\", \"罗贯中\", 159)\n",
    "\n",
    "print(book)\n",
    "print(len(book))\n",
    "del book"
   ]
  },
  {
   "cell_type": "code",
   "execution_count": null,
   "metadata": {},
   "outputs": [],
   "source": []
  }
 ],
 "metadata": {
  "kernelspec": {
   "display_name": "Python 3",
   "language": "python",
   "name": "python3"
  },
  "language_info": {
   "codemirror_mode": {
    "name": "ipython",
    "version": 3
   },
   "file_extension": ".py",
   "mimetype": "text/x-python",
   "name": "python",
   "nbconvert_exporter": "python",
   "pygments_lexer": "ipython3",
   "version": "3.7.6"
  }
 },
 "nbformat": 4,
 "nbformat_minor": 1
}
