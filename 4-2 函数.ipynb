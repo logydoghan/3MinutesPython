{
 "cells": [
  {
   "cell_type": "markdown",
   "metadata": {},
   "source": [
    "# 函数\n",
    "\n",
    "## 介绍函数\n",
    "\n",
    "本讲座将解释Python中的函数以及如何创建函数。当我们构造越来越多的代码来解决问题时，函数将是我们的主要构建块之一。\n",
    "\n",
    "**什么是函数？**\n",
    "\n",
    "形式上，函数是将一组语句组合在一起的命令，因此它们可以多次运行。它们还可以让我们指定输入的参数。\n",
    "\n",
    "从更基本的层面上讲，函数使我们不必一次又一次地重复编写相同的代码。如果您还记得关于字符串和列表的课程，请记住我们使用函数len（）来获取字符串的长度。由于检查序列的长度是一项常见的任务，因此您需要编写一个可以在命令中重复执行此操作的函数。\n",
    "\n",
    "函数将是Python中重用代码的最基本的模块之一，它也使我们能够开始思考程序设计（当我们学习面向对象编程时，我们将更深入地研究设计思想）。"
   ]
  },
  {
   "cell_type": "markdown",
   "metadata": {},
   "source": [
    "## def 语句\n",
    "\n",
    "以下是函数声明的方法："
   ]
  },
  {
   "cell_type": "code",
   "execution_count": 1,
   "metadata": {},
   "outputs": [],
   "source": [
    "def name_of_function(arg1,arg2):\n",
    "    '''\n",
    "    这里放置函数的文档\n",
    "    '''\n",
    "    # 这里开始写代码\n",
    "    # 返回结果"
   ]
  },
  {
   "cell_type": "markdown",
   "metadata": {},
   "source": [
    "我们从<code> def </code>开始，然后是一个空格，后跟函数名称。尝试保持名称相关，例如len()是length()函数的好名字。另外，请谨慎使用名称.\n",
    "\n",
    "接下来是一对用逗号分隔的带有多个参数的括号。这些参数是函数的输入对象。您将能够在函数中使用这些输入并引用它们。在此之后，您放了一个冒号。\n",
    "\n",
    "现在这是重要的一步，您必须缩进以正确开始函数内部的代码。 Python使用*空格*来组织代码。许多其他编程语言都不会这样做。"
   ]
  },
  {
   "cell_type": "markdown",
   "metadata": {},
   "source": [
    "### 实例 1: 打印 'hello' 函数"
   ]
  },
  {
   "cell_type": "code",
   "execution_count": 2,
   "metadata": {},
   "outputs": [],
   "source": [
    "def say_hello():\n",
    "    print('hello')"
   ]
  },
  {
   "cell_type": "markdown",
   "metadata": {},
   "source": [
    "执行此函数："
   ]
  },
  {
   "cell_type": "code",
   "execution_count": 3,
   "metadata": {},
   "outputs": [
    {
     "name": "stdout",
     "output_type": "stream",
     "text": [
      "hello\n"
     ]
    }
   ],
   "source": [
    "say_hello()"
   ]
  },
  {
   "cell_type": "markdown",
   "metadata": {},
   "source": [
    "### 实例 2: 打招呼函数"
   ]
  },
  {
   "cell_type": "code",
   "execution_count": 4,
   "metadata": {},
   "outputs": [],
   "source": [
    "def greeting(name):\n",
    "    print('你好' + name)"
   ]
  },
  {
   "cell_type": "code",
   "execution_count": 5,
   "metadata": {},
   "outputs": [
    {
     "name": "stdout",
     "output_type": "stream",
     "text": [
      "你好小王\n"
     ]
    }
   ],
   "source": [
    "greeting('小王')"
   ]
  },
  {
   "cell_type": "markdown",
   "metadata": {},
   "source": [
    "## 返回值\n",
    "\n",
    "让我们看一些使用<code> return </code>语句的示例。 <code> return </code>允许函数“返回”结果，然后将结果存储为变量，或以用户所需的任何方式使用。\n",
    "\n",
    "### 实例 3: 加法函数"
   ]
  },
  {
   "cell_type": "code",
   "execution_count": 6,
   "metadata": {},
   "outputs": [],
   "source": [
    "def add_num(num1,num2):\n",
    "    return num1+num2"
   ]
  },
  {
   "cell_type": "code",
   "execution_count": 7,
   "metadata": {},
   "outputs": [
    {
     "data": {
      "text/plain": [
       "9"
      ]
     },
     "execution_count": 7,
     "metadata": {},
     "output_type": "execute_result"
    }
   ],
   "source": [
    "add_num(4,5)"
   ]
  },
  {
   "cell_type": "code",
   "execution_count": 8,
   "metadata": {},
   "outputs": [],
   "source": [
    "# 方法的结果也可以赋予一个值\n",
    "result = add_num(4,5)"
   ]
  },
  {
   "cell_type": "code",
   "execution_count": 9,
   "metadata": {},
   "outputs": [
    {
     "name": "stdout",
     "output_type": "stream",
     "text": [
      "9\n"
     ]
    }
   ],
   "source": [
    "print(result)"
   ]
  },
  {
   "cell_type": "markdown",
   "metadata": {},
   "source": [
    "如果我们把两个字符串放在此函数呢？"
   ]
  },
  {
   "cell_type": "code",
   "execution_count": 10,
   "metadata": {},
   "outputs": [
    {
     "data": {
      "text/plain": [
       "'onetwo'"
      ]
     },
     "execution_count": 10,
     "metadata": {},
     "output_type": "execute_result"
    }
   ],
   "source": [
    "add_num('one','two')"
   ]
  },
  {
   "cell_type": "markdown",
   "metadata": {},
   "source": [
    "请注意，因为我们没有在Python中声明变量类型，所以可以使用此函数将数字或序列加在一起！稍后我们将学习有关添加检查以确保用户将正确的参数放入函数中的知识。\n",
    "\n",
    "我们也开始在代码中使用<code> break </code>，<code> continue </code>和<code> pass </code>语句。我们在<code> while </code>讲座中介绍了这些内容。"
   ]
  },
  {
   "cell_type": "markdown",
   "metadata": {
    "collapsed": true
   },
   "source": [
    "最后，让我们看一个创建函数来检查数字是否为质数的完整示例（常见的采访练习）。\n",
    "\n",
    "我们知道，如果该数字只能被1及其本身平均整除，则它是质数。让我们编写函数的第一个版本，以检查从1到N的所有数字并执行模检查。"
   ]
  },
  {
   "cell_type": "code",
   "execution_count": 11,
   "metadata": {},
   "outputs": [],
   "source": [
    "def is_prime(num):\n",
    "    '''\n",
    "    简单的检查数字是否为质数的函数\n",
    "    '''\n",
    "    for n in range(2,num):\n",
    "        if num % n == 0:\n",
    "            print(num,'不是质数')\n",
    "            break\n",
    "    else: # 如果模数不是0，就是质数\n",
    "        print(num,'是质数!')"
   ]
  },
  {
   "cell_type": "code",
   "execution_count": 12,
   "metadata": {},
   "outputs": [
    {
     "name": "stdout",
     "output_type": "stream",
     "text": [
      "16 不是质数\n"
     ]
    }
   ],
   "source": [
    "is_prime(16)"
   ]
  },
  {
   "cell_type": "code",
   "execution_count": 13,
   "metadata": {},
   "outputs": [
    {
     "name": "stdout",
     "output_type": "stream",
     "text": [
      "17 是质数!\n"
     ]
    }
   ],
   "source": [
    "is_prime(17)"
   ]
  },
  {
   "cell_type": "markdown",
   "metadata": {},
   "source": [
    "请注意<code> else </code>如何在<code> for </code>下而不是<code> if </code>下排列。这是因为我们希望<code> for </code>循环在打印我们的数字为质数之前耗尽该范围内的所有可能性。\n",
    "\n",
    "还要注意我们如何在第一个print语句之后break代码。一旦确定数字不是素数，我们就会退出<code> for </code>循环。\n",
    "\n",
    "实际上，我们可以通过仅检查目标数字的平方根，并在检查2之后不理会所有偶数来改善此功能。我们还将切换到返回布尔值以获取使用return语句的示例："
   ]
  }
 ],
 "metadata": {
  "kernelspec": {
   "display_name": "Python 3",
   "language": "python",
   "name": "python3"
  },
  "language_info": {
   "codemirror_mode": {
    "name": "ipython",
    "version": 3
   },
   "file_extension": ".py",
   "mimetype": "text/x-python",
   "name": "python",
   "nbconvert_exporter": "python",
   "pygments_lexer": "ipython3",
   "version": "3.7.6"
  }
 },
 "nbformat": 4,
 "nbformat_minor": 1
}
